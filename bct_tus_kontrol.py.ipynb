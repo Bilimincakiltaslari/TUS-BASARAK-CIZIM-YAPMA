{
 "cells": [
  {
   "cell_type": "code",
   "execution_count": 3,
   "metadata": {},
   "outputs": [],
   "source": [
    "# bct_tus_kontrol.py\n",
    "import turtle # Turtle modülünü içeri aktarıyoruz\n",
    "turtle.setup(500,500) # Ekran boyutunu 500x500 piksel yapıyoruz\n",
    "ekran = turtle.Screen() #Ekran isimli nesne oluşturuyoruz.\n",
    "ekran.title(\"bct_tus_kontrol.py\") # Ekran başlığını değiştiriyoruz\n",
    "ekran.bgcolor(\"white\") # Arka plan rengimizi beyaz yapıyoruz\n",
    "sem = turtle.Turtle() # sem (sembol anlamında) isimli Turtle nesnesini oluşturuyoruz\n",
    "\n",
    "# FONKSİYONLAR\n",
    "\n",
    "def git():     # git() isimli fonks.sem nesnemizi düz 20 birim ileri hareketi sağlayacak\n",
    "    sem.fd(20)\n",
    "def sol():     # sol() isimli fonks.nesnemizi sola 45 derece açı ile dönmemizi sağlayacak\n",
    "    sem.lt(45)\n",
    "def sag():     # sag() isimli fonks.nesnemizi sağa 45 derece açı ile dönmemizi sağlayacak\n",
    "    sem.rt(45)   \n",
    "def bit():     # bit() fonksiyonu ekran nesnemizi kapatıyor\n",
    "    ekran.bye()  \n",
    "def yuk():      # yuk() kalemi yukarı kaldıraçak çizim yapmadan ilerler\n",
    "    sem.penup()\n",
    "def asa():      # asa() kalemi aşağı indirecek çizim yaparak ilerler\n",
    "    sem.pendown()\n",
    "# TUŞLARLA HAREKETLERİ\n",
    "ekran.onkey(git, \"Up\") # Yukarı yön tuşu git fonksiyonunu tetikliyor\n",
    "ekran.onkey(sol, \"Left\") # Sol yön tuşu sol fonksiyonunu tetikliyor\n",
    "ekran.onkey(sag, \"Right\") # Sağ yön tuşu sag fonksiyonunu tetikliyor\n",
    "ekran.onkey(bit, \"x\") # x tuşu bit fonksiyonunu tetikliyor\n",
    "ekran.onkey(yuk, \"a\") # a tuşu yuk f. teikler kalem yukarı çizim yapmaz\n",
    "ekran.onkey(asa, \"z\") # z tuşu asa f. teikler kalem aşağı çizim yapar\n",
    "# ONKEY OLAYLARI YAKALAMA\n",
    "ekran.listen() # ekran.listen() olayların yakalanabilmesi listen( metodu ile sağlanıyor)\n",
    "ekran.mainloop() # ekran.mainloop() sistem düzeyindeki döngüyü sağlıyor\n"
   ]
  },
  {
   "cell_type": "code",
   "execution_count": null,
   "metadata": {},
   "outputs": [],
   "source": []
  },
  {
   "cell_type": "code",
   "execution_count": null,
   "metadata": {},
   "outputs": [],
   "source": []
  }
 ],
 "metadata": {
  "kernelspec": {
   "display_name": "Python 3",
   "language": "python",
   "name": "python3"
  },
  "language_info": {
   "codemirror_mode": {
    "name": "ipython",
    "version": 3
   },
   "file_extension": ".py",
   "mimetype": "text/x-python",
   "name": "python",
   "nbconvert_exporter": "python",
   "pygments_lexer": "ipython3",
   "version": "3.7.3"
  }
 },
 "nbformat": 4,
 "nbformat_minor": 2
}
